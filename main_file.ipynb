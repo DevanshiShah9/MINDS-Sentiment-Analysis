{
  "nbformat": 4,
  "nbformat_minor": 0,
  "metadata": {
    "colab": {
      "name": "Untitled0.ipynb",
      "provenance": []
    },
    "kernelspec": {
      "name": "python3",
      "display_name": "Python 3"
    },
    "language_info": {
      "name": "python"
    }
  },
  "cells": [
    {
      "cell_type": "code",
      "execution_count": 15,
      "metadata": {
        "id": "_QEBFqRvY1H-"
      },
      "outputs": [],
      "source": [
        "from bs4 import BeautifulSoup\n",
        "from dateutil.parser import parse\n",
        "import requests\n",
        "import pandas as pd\n",
        "import os\n",
        "import re\n",
        "import json\n",
        "from tqdm import tqdm\n"
      ]
    },
    {
      "cell_type": "code",
      "source": [
        "url=\"https://www.aljazeera.com/where/mozambique/\"\n",
        "link=[]\n",
        "html_content = requests.get(url).text\n",
        "soup = BeautifulSoup(html_content, \"lxml\")\n",
        "#print(soup)"
      ],
      "metadata": {
        "id": "hfGu3I5rY839"
      },
      "execution_count": 2,
      "outputs": []
    },
    {
      "cell_type": "code",
      "source": [
        "from tqdm import tqdm\n",
        "from time import sleep\n",
        " \n",
        " \n",
        "for i in tqdm(range(0, 100), initial = 50,\n",
        "              desc =\"Text You Want\"):\n",
        "    sleep(.1)"
      ],
      "metadata": {
        "colab": {
          "base_uri": "https://localhost:8080/"
        },
        "id": "0ewkKDcZKj0u",
        "outputId": "b1746c6d-fd8b-4734-d119-2c3165c26619"
      },
      "execution_count": 19,
      "outputs": [
        {
          "output_type": "stream",
          "name": "stderr",
          "text": [
            "Text You Want: 150it [00:10,  9.75it/s]\n"
          ]
        }
      ]
    },
    {
      "cell_type": "code",
      "source": [
        "for i in tqdm(range(0, 100), initial = 50,\n",
        "              desc =\"Web Scraping\"):\n",
        "    news_web= soup.find_all(\"h3\", attrs={\"class\": \"gc__title\"})\n",
        "    news_dates=soup.find_all(\"div\",attrs={\"class\": \"date-simple css-1yjq2zp\"})\n",
        "    news_df=pd.DataFrame(columns=[\"article_link\", \"article_title\", \"published_date\"])\n",
        "    i=0\n",
        "    for news in news_web:\n",
        "        data_dict = {\"article_link\": [news.a[\"href\"]],\"article_title\": [news.text.encode(\"ascii\", \"ignore\")],  \"published_date\": [parse(news_dates[i].select(\"span\")[1].text)]}\n",
        "        df = pd.DataFrame (data_dict)\n",
        "        news_df= pd.concat([news_df, df], ignore_index=True)\n",
        "        i+=1\n",
        "    news_df=news_df.sort_values(by=\"published_date\",ascending=False)[:10]   "
      ],
      "metadata": {
        "colab": {
          "base_uri": "https://localhost:8080/"
        },
        "id": "yNPiAGcuZAq8",
        "outputId": "ba865395-cd44-476c-c092-ebff03fd5e9e"
      },
      "execution_count": 20,
      "outputs": [
        {
          "output_type": "stream",
          "name": "stderr",
          "text": [
            "Web Scraping: 150it [00:01, 55.37it/s]\n"
          ]
        }
      ]
    },
    {
      "cell_type": "code",
      "source": [
        "articles=[]\n",
        "i=0\n",
        "for link in news_df[\"article_link\"]:\n",
        "    html_content = requests.get(\"https://www.aljazeera.com\"+link).text\n",
        "    soup = BeautifulSoup(html_content, \"lxml\")\n",
        "    article_web=soup.find(\"div\",attrs={\"class\": re.compile(\"wysiwyg wysiwyg--all-content css-[a-z0-9]\")})\n",
        "    s=\"\"\n",
        "    for p in article_web.select(\"p\"):\n",
        "        s+=p.text\n",
        "    articles.append(s)\n",
        "    i+=1\n",
        "news_df[\"article\"]=articles  "
      ],
      "metadata": {
        "id": "7qgWtU0OZDSm"
      },
      "execution_count": 23,
      "outputs": []
    },
    {
      "cell_type": "code",
      "source": [
        "news_df_json=news_df.drop([\"article_link\",\"published_date\"], axis = 1)\n",
        "path= os.path.abspath(os.getcwd())+\"/articles.json\"\n",
        "with open('articles.json', 'w', encoding='utf-8') as file:\n",
        "    news_df_json.to_json(file,orient=\"records\", force_ascii=False)"
      ],
      "metadata": {
        "id": "tHXlGNfgZG7_"
      },
      "execution_count": 5,
      "outputs": []
    },
    {
      "cell_type": "code",
      "source": [
        "f= open(path,\"r\")\n",
        "f1=json.load(f)\n",
        "print(f1)"
      ],
      "metadata": {
        "colab": {
          "base_uri": "https://localhost:8080/"
        },
        "id": "NTOmb0sCZJI0",
        "outputId": "53362fc2-bf6d-4f72-f92c-25d6edd7e7d5"
      },
      "execution_count": 6,
      "outputs": [
        {
          "output_type": "stream",
          "name": "stdout",
          "text": [
            "[{'article_title': 'Floods hit South Africas KwaZulu-Natal province again', 'article': 'Heavy rains in South Africa have forced hundreds of people to flee their homes on the east coast, according to officials, only a month after the worst floods in living memory killed more than 400.\\nThe floods over the weekend hit infrastructure, roads, bridges and damaged buildings, mainly in the port city of Durban, the capital of KwaZulu-Natal province and home to some 3.9 million people.“Some areas are inaccessible and have become islands at this stage,” KwaZulu-Natal Premier Sihle Zikalala said during a news conference on Sunday.\\nNo fatalities were immediately recorded, but Zikalala added: “We are yet to receive a full comprehensive report on the impact of these latest heavy rains, but as reports come in a worrying picture is however emerging.”\\nIn April, torrential rain led to floods, landslides and the death of 435 people in KwaZulu-Natal and authorities said survivors were left without drinking water for nearly two weeks. Repairs are still ongoing after the floods caused damage worth hundreds of millions of dollars.\\nOn Sunday, parts of the road near the Umdloti beach resort north of Durban had been washed away, leaving gaping holes and cars balanced on the edge, AFP news agency reported.“The flooding started late yesterday [Saturday] afternoon but as a result of the collapse of this road we couldn’t get out,” one local resident, Kevin Govender, told AFP.They were only able to get out once the emergency services arrived on Sunday.Nearly 250 people were evacuated from the resort town overnight and rescue operations continued on Sunday, as the emergency services received more calls for help. Some homes have lost power.\\nThe water purification station for the eThekwini area close to Durban has also been damaged, said officials.The South African Weather Service put the alert level at the highest on Saturday. Officials called on residents to stay at home.Authorities in KwaZulu-Natal opened 82 reception centres while police, firefighters and rescue workers were ready to respond rapidly to emergencies. The army has also been called in for reinforcement and officials have evacuated elderly people in several villages.On Monday, the weather service said conditions had improved significantly but still they expect the rains to continue in parts of the province.'}, {'article_title': 'Mozambique: Cyclone Gombe death toll rises to 53', 'article': 'Tropical Cyclone Gombe has killed at least 53 people since it hit Mozambique a week ago, a sharp rise from earlier estimates.According to the National Institute of Disaster Management (INGC) on Thursday, another 80 people have been injured and 400,000 affected since the cyclone swept into northern and central areas of the country, flooding towns and destroying houses.The initial death toll in the southern African country was estimated at seven.Data showed Gombe had completely destroyed 45,000 homes and partially destroyed 30,000.In the past few years, Southern Africa has suffered repeated devastating cyclones of the type that used to be relatively rare, and scientists believe climate change is fuelling their intensity via warming of the Indian Ocean.In January, Tropical Storm Ana killed at least 88 people across Southern and Eastern Africa.'}, {'article_title': 'Mozambique announces new prime minister after cabinet reshuffle', 'article': 'Mozambique President Filipe Nyusi has appointed a new prime minister and filled several other posts, including the finance minister, as part of a cabinet reshuffle.A statement from the presidency on Thursday named Adriano Afonso Maleiane as the replacement for Carlos Agostinho do Rosário, who had been prime minister since 2015.It also named Ernesto Max Tonela as the minister of economy and finance, and Carlos Zacarias, currently chairman of the National Petroleum Instituto (INP) responsible for licensing oil and gas projects, as mineral resources and energy minister.On Wednesday, Nyusi had fired six ministers, without giving a reason, in what was seen as a major cabinet reshuffle.'}, {'article_title': 'Analysis: Can African gas replace Russian supplies to Europe?', 'article': 'Lagos, Nigeria – On February 22, German Chancellor Olaf Scholz announced during a news conference that the European superpower was halting approval of Russia-owned Nord Stream 2 after President Vladimir Putin officially sent troops into eastern Ukraine.Nord Stream 2, an $11bn gas pipeline project owned by Moscow-backed energy company Gazprom, runs from western Siberia to Germany. The project was built to ensure a sustainable energy distribution across the European Union, especially as gas prices reached record highs in Europe – which gets more than a third of its natural gas from Russia.As the conflict continues in Ukraine, European gas prices have soared and there is the likelihood that Moscow could shut off supplies of gas, widely considered part of Putin’s leverage against the West in his obsession with Ukraine.Before that, European countries will be pulling the stops to find contingency supply networks in the coming weeks. In fact, sources say the United States is already in talks with Qatar over supplying gas to the EU as a crucial substitute for Russia.However, during a forum of gas exporting countries held last week in Qatar, the bloc said it would be unable to provide a considerable amount of replacement gas to Europe in the event of sanctions against Russia. They stressed the need for significant investment in gas infrastructure, as well as long-term contracts, to guarantee a large supply to Europe.This has led to an emerging debate about whether African countries, which have some of the world’s deepest gas reserves, can step in to fill the gap – a demand of 150-190 billion cubic metres annually that Russia has usually supplied to Europe.Recently,\\xa0Tanzanian President Samia Suluhu Hassan said the Russian invasion of Ukraine could prove to be an opportunity for gas sales as the East African country makes efforts to secure a new energy market outside Africa. “Whether Africa or Europe or America, we are looking for markets,” said Hassan. “And fortunately, we are working with companies from Europe.”Tanzania, which has the sixth-largest gas reserves in Africa – an estimated 57 trillion cubic feet (1.6 billion cubic metres) of gas reserves – says it has been working with Shell to utilise its vast offshore gas resources and export to Europe and elsewhere.Africa’s largest gas producer has similar plans too. Timipre Sylva, Nigeria’s junior petroleum minister, told the press at the gas exporting countries’ forum in Doha, “We want to build a pipeline, a trans-Sahara pipeline, that is going to take our gas to Algeria, then to Europe.”Nigeria’s comments are buoyed by the recent signing of an MoU with Algeria and the Niger Republic and the ongoing construction of the Trans-Saharan Gas Pipeline, a 614km (381.5 miles) long natural gas pipeline beginning in northern Nigeria.There is no official word on when the pipeline, first mooted in the 1970s, will be completed but it is slated to run through northern Nigeria into Niger and Algeria, connecting to Europe eventually.Still there are concerns about whether African countries can become a proper stopgap solution for natural gas as Europe tackles Russia’s military onslaught against one of its own – or long-term suppliers.Experts say a historic lack of investment in gas infrastructure has hampered the energy industry in sub-Saharan Africa, unlike in Northern Africa.For instance, the Maghreb-Europe Gas Pipeline in Algeria – Africa’s largest natural gas exporter – conveys natural gas through Morocco to Spain and Portugal, and the Medgaz pipeline links Algeria directly to Spain.Experts estimated that Algeria exported 9 billion cubic feet (255 million cubic metres) of gas to Spain in 2020 and up to 17 billion cubic feet (481 million cubic metres) annually before that. The drop was due to gas production dipping in a breakdown in relations with Morocco; last October, Algeria announced that it would immediately begin exporting gas directly to Spain.“It is important to note that [North] Africa already has an established gas export market with Europe [before the Ukrainian crisis],” said Linda Mabhena-Olagunju, oil and gas lawyer and CEO of Johannesburg-based independent power producer DLO Energy Resource Group. “The Medgaz pipeline capacity enhancements [in Algeria] are also expected to increase exports to Europe.”But many African countries with massive gas reserves have also struggled to attract investment to build gas infrastructure projects to supply the European market.Angola, which has 13.5 trillion cubic feet (382 billion cubic metres) of proven gas reserves, has experienced a sharp decline in oil and gas production in the last five years due to a combination of technical and operational problems, as well as a lack of upstream investment and incentives.In 2020, the Muhammadu Buhari administration announced “The Decade of Gas”, a Nigerian initiative to prioritise the gas industry and take advantage of a global transition to cleaner fuels.As part of that drive, it has commenced construction of the 614km-long, $2.5bn Ajaokuta-Kaduna-Kano Natural Gas Pipeline. Most of the funding comes as a loan from Chinese banks.Still, like in many other African countries, significant investments are needed to build trans-regional and intercontinental pipelines, in order to open up access to Europe. And they all need loads of capital.Nigeria is hoping that its new industry legislation – signed last August – can provide a new framework to cut down on waste and corruption in the oil sector, reshape host community relations and ultimately, investment.“Nigeria is not presently a top investment destination for the oil and gas industry,” said Joe Nwakwue, former chairman of the Society of Petroleum Engineers in Nigeria and ex-adviser to the junior petroleum minister. “This was why we pushed for a competitive fiscal arrangement in the bill.”“Additionally, to address the infrastructure challenge, we need to open up the sector to private capital,” he said. “Our current oligopoly would not suffice as the Nigerian National Petroleum Corporation lacks the capital to build our required infrastructure.”Using vessels for direct transport of liquefied natural gas across the seas could also put sub-Saharan African countries in prime position to become competitive producers and exporters, Mabhena-Olagunju told Al Jazeera.There are also other existential issues that experts say African countries have to fix first to be a ready alternative for Europe in situations of urgency.Mozambique holds roughly 100 trillion cubic feet (2.8 trillion cubic metres) of proven natural gas reserves, accounting for approximately 1 percent of the world’s total reserves. But an\\xa0ongoing armed uprising\\xa0in the northern Mozambican province of Cabo Delgado, a gas-rich area that borders Tanzania, has\\xa0hampered activity on a planned $50bn project.Elsewhere, a wave of security threats from armed groups has affected oil and gas exploration in Nigeria’s oil-rich Niger Delta.“The key factor that remains a challenge for Africa as a reliable LNG producer and exporter revolves around security of supply,” said Mabhena-Olagunju. “Whilst the LNG discoveries in Mozambique are a great find, it is also important to recognise that insecurity leads to delays and instability of supply.”Can African countries wing it?'}, {'article_title': 'Dozens dead from Tropical Storm Ana in southern Africa', 'article': 'The death toll from a storm that struck three southern African countries rose to 70 on Thursday as emergency teams battled to repair damaged infrastructure and help tens of thousands of victims.Packing torrential rains, Tropical Storm Ana made landfall Monday in Madagascar before ploughing into Mozambique and Malawi.Rescue workers and authorities across the three countries were still assessing the full extent of the damage.Madagascar has reported 41 dead, with 18 others killed in Mozambique and 11 in Malawi.Remnants of the storm have passed over Zimbabwe, but no deaths have been reported there.In the three hardest-hit countries, tens of thousands of homes were damaged. Some collapsed under the heavy rain, trapping victims in the rubble.Bridges were washed away by swollen rivers, while livestock drowned and submerged fields, destroying the livelihoods of rural families.In Madagascar, 110,000 had to flee their homes. In the capital Antananarivo, schools and gyms were turned into emergency shelters.“We only brought our most important possessions,” Berthine Razafiarisoa, who sheltered in a gym with his family of 10, told AFP news agency.In northern and central Mozambique, Ana destroyed 10,000 homes, dozens of schools and hospitals, and downed power lines.Mozambique’s weather service expects another storm to form over the Indian Ocean in the coming days. Up to six tropical cyclones are expected before the rainy season ends in March.In neighbouring Malawi, the government declared a state of natural disaster.Most of the country lost electricity early in the week, after floodwaters hit generating stations. Power was restored by Thursday in parts of the country, but parts of the electric grid were destroyed.“Our priority now is restoring power to health establishments, water treatment distribution systems, and schools,” the national power utility said in a statement.Southern Africa, and especially Mozambique, has suffered repeated destructive storms in recent years.'}, {'article_title': 'Southern Africa bloc SADC extends Mozambique mission', 'article': 'Southern African regional bloc SADC at a summit has extended the mandate of a troop deployment in Mozambique to help the country fight an armed uprising, a communique from the summit showed.“Summit noted the good progress made since the deployment of the SADC Mission in Mozambique and extended its mandate,” the communique on Wednesday read, without saying how long the extension was for.SADC nations and Rwanda resolved last June to send more than 3,000 troops to help Mozambique respond to an armed uprising in the northern province of Cabo Delgado.On Tuesday, South African President Cyril Ramaphosa, who is chairperson of the SADC Organ on Politics, Defence and Security Cooperation, said that the deployment of the SADC Mission in Mozambique (SAMIM) was showing some results.“Since the deployment … significant progress has been made,” said Ramaphosa in opening remarks at the two-day talks in the Malawian capital, Lilongwe.“The security situation in Cabo Delgado is improving, which has allowed for some internally displaced persons to return to their homes and resume their normal lives,” he said.Operating alongside Mozambican troops, regional forces have helped to create “safe passage” for bringing humanitarian aid into violence-hit areas, he said.The mission was initially deployed in July, but its mandate was extended indefinitely in October.Cabo Delgado, a gas-rich province bordering Tanzania, has been hit by attacks since 2017.At least 3,500 people have died and approximately 820,000 have fled their homes.Atrocities have included massacres, beheadings, the torching of homes, and mass abductions – particularly of girls.'}, {'article_title': 'Climate change and famine | Start Here', 'article': 'Madagascar is on the brink of famine because of its worst drought in 40 years.And a big reason for that is climate change.\\xa0\\xa0'}, {'article_title': 'In Mozambique, Kagame says Rwandan troops work not over', 'article': 'Rwandan President Paul Kagame has arrived in Mozambique, where he has deployed some 1,000 soldiers to help local security forces tackle fighters wreaking havoc in the country’s north.Attacks by an armed group known locally as al-Shabab, whose origins, analysts say, are steeped in local political, religious and economic discontent, have steadily increased in the Cabo Delgado province since October 2017. The violence, including the raiding of villages and towns, has killed more than 3,306 people – half of them civilians – and displaced at least 800,000 from their homes over the past four years.Rwanda in July was the first of several African countries to provide reinforcements to Mozambique’s army, overwhelmed by the worsening conflict in the gas-rich province. A contingent of forces from the regional bloc, the Southern African Development Community (SADC), is also patrolling northern Cabo Delgado.Kagame landed in the provincial capital, Pemba, on Friday morning and was received by his Mozambican counterpart, Filipe Nyusi. The two leaders met and addressed Rwandan troops deployed to the province.President Nyusi welcomes President Kagame to Pemba, Mozambique for a two-day working visit. The Presidents will meet with the Rwandan Joint Forces working with Mozambican Defence Armed Forces in Cabo Delgado, followed by tête-à-tête and bilateral meetings and a press conference. pic.twitter.com/5IgFJMRl8f— Presidency | Rwanda (@UrugwiroVillage) September 24, 2021In a joint news conference, Kagame said Rwandan troops would help secure and rebuild the areas destroyed by the violence.“The work hasn’t been easy,” Kagame told his soldiers, according to posts on the Rwandan presidency’s Twitter account. “You have done great work alongside Mozambican troops. You sacrificed and endured days and nights in the scorching sun, heavy rains,” he said.“The work done so far cannot stop here. We now have another task which is to continue rebuilding and protecting this country.”For his part, Nyusi called Rwandan troops “real heroes”, adding that Mozambique’s “soldiers are forever indebted to you and we look forward to continuing rebuilding the lives of our citizens for the better”.  \\n Foreign forces have helped Mozambique regain ground in Cabo Delago since fighters linked to ISIL (ISIS) launched a coordinated assault on the port town of Palma in March, offsetting multibillion-dollar gas projects and raising international concern.Some local officials have encouraged civilians to return, according to media reports, and the Rwandan military’s spokesman said 25,000 people had been brought home. “It is very safe for them to go back,” Ronald Rwivanga told Reuters news agency on Thursday.But United Nations officials are not so sure.A document compiled in September for UN agencies and other aid groups, seen by Reuters, said it was not clear whether the fighters’ capabilities had been much reduced. “Fighting continues in certain locations and civilian authorities have not been re-established,” it added.Al Jazeera’s Malcolm Webb, reporting from an abandoned town in Cabo Delgado, said the remains of what the fighters had left behind were still visible.“A lot of the buildings have been torched, goods from the shops have been looted, cars have been set on fire as well,” he added.“Civilians in this area really fear the fighters from this armed group. They are notorious for beheadings, for abducting people and all of the villages that we passed along the road are still completely deserted.”  \\n Rwivanga said the Rwandans had been moving civilians back into the area they control near a $20bn liquefied natural gas (LNG) project run by oil major TotalEnergies, which was forced to a halt by the Palma attack.Yet security analysts say the Mozambican military deficiencies that allowed the armed campaign to take hold in the north – including soldiers that are ill-equipped, undisciplined and poorly paid – will not be easily reversed. Even with other forces there, they say, security is uncertain outside of small, heavily guarded areas.Mozambican and Rwandan forces notched up a major victory in August, when they drove the fighters out of their de facto headquarters in the port city of Mocimboa da Praia.But violence has continued. Local people and security forces have recently reported a string of attacks in Quissanga district, south of Mocimba da Praia, where fighters are believed to have fallen back after the town was retaken. The latest occurred on Thursday evening in the village of Lindi.“Two people were killed and another two people were injured,” an unnamed police source was quoted as saying by AFP news agency on Friday, adding that fighters had captured several women and girls.Fighters also ambushed two buses transporting soldiers later that night, causing at least one death, a traffic police officer told AFP. The attack took place on a main road that had been closed for two years due to similar incidents, and only recently reopened following the arrival of foreign troops.In total, at least 10 people have been killed across several villages in Quissanga over the past week, another police officer said. Some of the victims were reportedly beheaded.  \\n '}, {'article_title': 'Rwanda, Mozambique forces recapture port city from rebels', 'article': 'Rwandan forces deployed last month to help Mozambique’s army battle rebels said on Sunday they have recaptured control of the key northern port of Mocimboa da Praia from the armed group.“The port city of Mocimboa da Praia, a major stronghold of the insurgency for more than two years has been captured by Rwandan and Mozambican security forces,” the Rwanda Defence Forces said in a tweet.Forces’ spokesman Colonel Ronald Rwivanga confirmed this to the AFP news agency, saying “yes [Mocimboa da Praia] has fallen”.The port town, from where the first rebel attacks were staged in October 2017, has since last year become the de facto headquarters of a rebel armed group, locally referred to as al-Shabab.Mocimboa da Praia “was the last stronghold of the insurgents, marking the end of the first phase of counter-insurgency operations which is dislodging insurgents from the stronghold”, Rwivanga said in a text message.Rwanda sent in 1,000 soldiers last month to shore up Mozambican military forces that have been struggling to regain control over the northern Cabo Delgado province, which is home to one of Africa’s biggest liquefied natural gas projects.The forces last week claimed their first success since deploying, saying they had helped the Mozambique army regain control of Awasse – a small but also strategic settlement near Mocimboa da Praia.  \\n '}, {'article_title': 'Rwanda deploys 1,000 soldiers to Mozambiques Cabo Delgado', 'article': 'Rwanda has started deploying 1,000-strong forces to Mozambique to help it combat worsening violence in the gas-rich northern Cabo Delgado province.The announcement came on Friday after the 16-member Southern African Development Community (SADC) approved last month the deployment of joint forces to help Mozambique respond to the nearly four-year-old conflict, which has killed some 3,000 people and displaced almost 800,000, half of whom are children.Soldiers from Rwanda, which is not a member of SADC, would fight alongside Mozambique’s forces and SADC troops, the Rwandan government said in a statement.“The Rwandan contingent will support efforts to restore Mozambican state authority by conducting combat and security operations, as well as stabilisation and security-sector reform,” it added.Rwanda deploys joint force to Mozambique. Read full statement and background here: https://t.co/ezhoBGZyG5 pic.twitter.com/JexdejubEB— Government of Rwanda (@RwandaGov) July 9, 2021Rwandan defence forces spokesman Ronald Rwivanga told Reuters news agency the new forces would have deployed in full by Saturday.He said the Rwandan contingent was made up of members of the police force and troops trained “to deal with terrorism and security-related issues” in Cabo Delgado.Alexandre Raymakers, Africa analyst at the United Kingdom-based global risk consultancy Verisk Maplecroft, said he believes the Rwandan contingent could be used to secure key liquefied natural gas (LNG) sites in an effort to lure back international investors.“The Rwandan security forces have developed a reputation for being a highly capable fighting force,” he said.But, he added, “The presence of multiple military missions, in the form of a potential Rwandan contingent and the SADC, will likely lead to conflicting priorities and friction at the military command level, hindering the overall.”  \\n Attacks by an armed group known locally as al-Shabab, whose origins, analysts say, are steeped in local political, religious and economic discontent, have steadily increased in the Cabo Delgado province since October 2017.The sophistication of the attacks has increased, too.The fighters linked to ISIL (ISIS) have ransacked towns and gained control of key roadways, destroying infrastructure and beheading civilians. In some cases, they have forced locals into their ranks or held them as sex slaves.Since August 2020, the fighters have been in control of the key port town of Mocimboa da Praia, while in March, they launched a coordinated assault on Palma town, killing dozens and displacing tens of thousands, while also forcing the French energy firm Total to suspend its $20bn LNG project.The government has deployed thousands of soldiers to Cabo Delgado to combat the fighters, but analysts have long cautioned that Mozambique’s army has historically been weak, poorly trained and underequipped.The World Food Programme has warned of a growing hunger crisis as nearly one million people need food aid.'}]\n"
          ]
        }
      ]
    },
    {
      "cell_type": "code",
      "source": [
        "import numpy as np\n",
        "from flair.models import TextClassifier\n",
        "from flair.data import Sentence\n",
        "classifier = TextClassifier.load('en-sentiment')\n",
        "\n",
        "def text_sentiment_flair(text):\n",
        "  sentence = Sentence(text)\n",
        "  classifier.predict(sentence)\n",
        "  if len(sentence.labels)>0:\n",
        "    return sentence.labels[0].value\n",
        "  else:\n",
        "    return str(0)\n",
        "print(len(news_df['article']))\n",
        "\n",
        "for i in tqdm(range(0, 100), initial = 0,\n",
        "              desc =\"Running Sentiment Analysis\"):\n",
        "  sentiment=[]\n",
        "  for index,row in news_df.iterrows():\n",
        "      article=row['article']\n",
        "      positive=0\n",
        "      negative=0\n",
        "      sentences=article.split('.')\n",
        "      sentences = pd.Series(list(filter(None, sentences)))\n",
        "      predictions = sentences.map(lambda x : text_sentiment_flair(x))\n",
        "      for i in predictions:\n",
        "          if(i!='0'):\n",
        "              if(i=='POSITIVE'):\n",
        "                  positive+=1\n",
        "              else:\n",
        "                  negative+=1\n",
        "      if(positive<negative):\n",
        "          sentiment.append(-1)\n",
        "      elif (positive==negative):\n",
        "          sentiment.append(0)\n",
        "      else:\n",
        "        sentiment.append(1)\n",
        "  news_df['sentiment']=sentiment\n",
        "\n"
      ],
      "metadata": {
        "colab": {
          "base_uri": "https://localhost:8080/"
        },
        "id": "0hnCMhVRcD4L",
        "outputId": "f8f007bc-8fee-4021-eff6-9f2bd4314c42"
      },
      "execution_count": 26,
      "outputs": [
        {
          "output_type": "stream",
          "name": "stdout",
          "text": [
            "2022-06-09 06:35:11,584 loading file /root/.flair/models/sentiment-en-mix-distillbert_4.pt\n",
            "0\n"
          ]
        },
        {
          "output_type": "stream",
          "name": "stderr",
          "text": [
            "Running Sentiment Analysis: 100%|██████████| 100/100 [00:00<00:00, 5528.13it/s]\n"
          ]
        }
      ]
    },
    {
      "cell_type": "code",
      "source": [
        "import plotly.express as px\n",
        "fig = px.scatter(data_frame=news_df,y='sentiment',color='sentiment')\n",
        "fig.show()"
      ],
      "metadata": {
        "colab": {
          "base_uri": "https://localhost:8080/",
          "height": 542
        },
        "id": "dfj0xvfGF_0t",
        "outputId": "146a8902-ec03-45b6-e343-b94cc2491378"
      },
      "execution_count": 14,
      "outputs": [
        {
          "output_type": "display_data",
          "data": {
            "text/html": [
              "<html>\n",
              "<head><meta charset=\"utf-8\" /></head>\n",
              "<body>\n",
              "    <div>            <script src=\"https://cdnjs.cloudflare.com/ajax/libs/mathjax/2.7.5/MathJax.js?config=TeX-AMS-MML_SVG\"></script><script type=\"text/javascript\">if (window.MathJax) {MathJax.Hub.Config({SVG: {font: \"STIX-Web\"}});}</script>                <script type=\"text/javascript\">window.PlotlyConfig = {MathJaxConfig: 'local'};</script>\n",
              "        <script src=\"https://cdn.plot.ly/plotly-2.8.3.min.js\"></script>                <div id=\"6069afff-6efd-407f-a908-8d391186beb3\" class=\"plotly-graph-div\" style=\"height:525px; width:100%;\"></div>            <script type=\"text/javascript\">                                    window.PLOTLYENV=window.PLOTLYENV || {};                                    if (document.getElementById(\"6069afff-6efd-407f-a908-8d391186beb3\")) {                    Plotly.newPlot(                        \"6069afff-6efd-407f-a908-8d391186beb3\",                        [{\"hovertemplate\":\"index=%{x}<br>sentiment=%{marker.color}<extra></extra>\",\"legendgroup\":\"\",\"marker\":{\"color\":[-1,-1,-1,-1,-1,1,0,-1,-1,-1],\"coloraxis\":\"coloraxis\",\"symbol\":\"circle\"},\"mode\":\"markers\",\"name\":\"\",\"orientation\":\"v\",\"showlegend\":false,\"x\":[0,1,2,3,4,5,6,7,8,9],\"xaxis\":\"x\",\"y\":[-1,-1,-1,-1,-1,1,0,-1,-1,-1],\"yaxis\":\"y\",\"type\":\"scatter\"}],                        {\"template\":{\"data\":{\"bar\":[{\"error_x\":{\"color\":\"#2a3f5f\"},\"error_y\":{\"color\":\"#2a3f5f\"},\"marker\":{\"line\":{\"color\":\"#E5ECF6\",\"width\":0.5},\"pattern\":{\"fillmode\":\"overlay\",\"size\":10,\"solidity\":0.2}},\"type\":\"bar\"}],\"barpolar\":[{\"marker\":{\"line\":{\"color\":\"#E5ECF6\",\"width\":0.5},\"pattern\":{\"fillmode\":\"overlay\",\"size\":10,\"solidity\":0.2}},\"type\":\"barpolar\"}],\"carpet\":[{\"aaxis\":{\"endlinecolor\":\"#2a3f5f\",\"gridcolor\":\"white\",\"linecolor\":\"white\",\"minorgridcolor\":\"white\",\"startlinecolor\":\"#2a3f5f\"},\"baxis\":{\"endlinecolor\":\"#2a3f5f\",\"gridcolor\":\"white\",\"linecolor\":\"white\",\"minorgridcolor\":\"white\",\"startlinecolor\":\"#2a3f5f\"},\"type\":\"carpet\"}],\"choropleth\":[{\"colorbar\":{\"outlinewidth\":0,\"ticks\":\"\"},\"type\":\"choropleth\"}],\"contour\":[{\"colorbar\":{\"outlinewidth\":0,\"ticks\":\"\"},\"colorscale\":[[0.0,\"#0d0887\"],[0.1111111111111111,\"#46039f\"],[0.2222222222222222,\"#7201a8\"],[0.3333333333333333,\"#9c179e\"],[0.4444444444444444,\"#bd3786\"],[0.5555555555555556,\"#d8576b\"],[0.6666666666666666,\"#ed7953\"],[0.7777777777777778,\"#fb9f3a\"],[0.8888888888888888,\"#fdca26\"],[1.0,\"#f0f921\"]],\"type\":\"contour\"}],\"contourcarpet\":[{\"colorbar\":{\"outlinewidth\":0,\"ticks\":\"\"},\"type\":\"contourcarpet\"}],\"heatmap\":[{\"colorbar\":{\"outlinewidth\":0,\"ticks\":\"\"},\"colorscale\":[[0.0,\"#0d0887\"],[0.1111111111111111,\"#46039f\"],[0.2222222222222222,\"#7201a8\"],[0.3333333333333333,\"#9c179e\"],[0.4444444444444444,\"#bd3786\"],[0.5555555555555556,\"#d8576b\"],[0.6666666666666666,\"#ed7953\"],[0.7777777777777778,\"#fb9f3a\"],[0.8888888888888888,\"#fdca26\"],[1.0,\"#f0f921\"]],\"type\":\"heatmap\"}],\"heatmapgl\":[{\"colorbar\":{\"outlinewidth\":0,\"ticks\":\"\"},\"colorscale\":[[0.0,\"#0d0887\"],[0.1111111111111111,\"#46039f\"],[0.2222222222222222,\"#7201a8\"],[0.3333333333333333,\"#9c179e\"],[0.4444444444444444,\"#bd3786\"],[0.5555555555555556,\"#d8576b\"],[0.6666666666666666,\"#ed7953\"],[0.7777777777777778,\"#fb9f3a\"],[0.8888888888888888,\"#fdca26\"],[1.0,\"#f0f921\"]],\"type\":\"heatmapgl\"}],\"histogram\":[{\"marker\":{\"pattern\":{\"fillmode\":\"overlay\",\"size\":10,\"solidity\":0.2}},\"type\":\"histogram\"}],\"histogram2d\":[{\"colorbar\":{\"outlinewidth\":0,\"ticks\":\"\"},\"colorscale\":[[0.0,\"#0d0887\"],[0.1111111111111111,\"#46039f\"],[0.2222222222222222,\"#7201a8\"],[0.3333333333333333,\"#9c179e\"],[0.4444444444444444,\"#bd3786\"],[0.5555555555555556,\"#d8576b\"],[0.6666666666666666,\"#ed7953\"],[0.7777777777777778,\"#fb9f3a\"],[0.8888888888888888,\"#fdca26\"],[1.0,\"#f0f921\"]],\"type\":\"histogram2d\"}],\"histogram2dcontour\":[{\"colorbar\":{\"outlinewidth\":0,\"ticks\":\"\"},\"colorscale\":[[0.0,\"#0d0887\"],[0.1111111111111111,\"#46039f\"],[0.2222222222222222,\"#7201a8\"],[0.3333333333333333,\"#9c179e\"],[0.4444444444444444,\"#bd3786\"],[0.5555555555555556,\"#d8576b\"],[0.6666666666666666,\"#ed7953\"],[0.7777777777777778,\"#fb9f3a\"],[0.8888888888888888,\"#fdca26\"],[1.0,\"#f0f921\"]],\"type\":\"histogram2dcontour\"}],\"mesh3d\":[{\"colorbar\":{\"outlinewidth\":0,\"ticks\":\"\"},\"type\":\"mesh3d\"}],\"parcoords\":[{\"line\":{\"colorbar\":{\"outlinewidth\":0,\"ticks\":\"\"}},\"type\":\"parcoords\"}],\"pie\":[{\"automargin\":true,\"type\":\"pie\"}],\"scatter\":[{\"marker\":{\"colorbar\":{\"outlinewidth\":0,\"ticks\":\"\"}},\"type\":\"scatter\"}],\"scatter3d\":[{\"line\":{\"colorbar\":{\"outlinewidth\":0,\"ticks\":\"\"}},\"marker\":{\"colorbar\":{\"outlinewidth\":0,\"ticks\":\"\"}},\"type\":\"scatter3d\"}],\"scattercarpet\":[{\"marker\":{\"colorbar\":{\"outlinewidth\":0,\"ticks\":\"\"}},\"type\":\"scattercarpet\"}],\"scattergeo\":[{\"marker\":{\"colorbar\":{\"outlinewidth\":0,\"ticks\":\"\"}},\"type\":\"scattergeo\"}],\"scattergl\":[{\"marker\":{\"colorbar\":{\"outlinewidth\":0,\"ticks\":\"\"}},\"type\":\"scattergl\"}],\"scattermapbox\":[{\"marker\":{\"colorbar\":{\"outlinewidth\":0,\"ticks\":\"\"}},\"type\":\"scattermapbox\"}],\"scatterpolar\":[{\"marker\":{\"colorbar\":{\"outlinewidth\":0,\"ticks\":\"\"}},\"type\":\"scatterpolar\"}],\"scatterpolargl\":[{\"marker\":{\"colorbar\":{\"outlinewidth\":0,\"ticks\":\"\"}},\"type\":\"scatterpolargl\"}],\"scatterternary\":[{\"marker\":{\"colorbar\":{\"outlinewidth\":0,\"ticks\":\"\"}},\"type\":\"scatterternary\"}],\"surface\":[{\"colorbar\":{\"outlinewidth\":0,\"ticks\":\"\"},\"colorscale\":[[0.0,\"#0d0887\"],[0.1111111111111111,\"#46039f\"],[0.2222222222222222,\"#7201a8\"],[0.3333333333333333,\"#9c179e\"],[0.4444444444444444,\"#bd3786\"],[0.5555555555555556,\"#d8576b\"],[0.6666666666666666,\"#ed7953\"],[0.7777777777777778,\"#fb9f3a\"],[0.8888888888888888,\"#fdca26\"],[1.0,\"#f0f921\"]],\"type\":\"surface\"}],\"table\":[{\"cells\":{\"fill\":{\"color\":\"#EBF0F8\"},\"line\":{\"color\":\"white\"}},\"header\":{\"fill\":{\"color\":\"#C8D4E3\"},\"line\":{\"color\":\"white\"}},\"type\":\"table\"}]},\"layout\":{\"annotationdefaults\":{\"arrowcolor\":\"#2a3f5f\",\"arrowhead\":0,\"arrowwidth\":1},\"autotypenumbers\":\"strict\",\"coloraxis\":{\"colorbar\":{\"outlinewidth\":0,\"ticks\":\"\"}},\"colorscale\":{\"diverging\":[[0,\"#8e0152\"],[0.1,\"#c51b7d\"],[0.2,\"#de77ae\"],[0.3,\"#f1b6da\"],[0.4,\"#fde0ef\"],[0.5,\"#f7f7f7\"],[0.6,\"#e6f5d0\"],[0.7,\"#b8e186\"],[0.8,\"#7fbc41\"],[0.9,\"#4d9221\"],[1,\"#276419\"]],\"sequential\":[[0.0,\"#0d0887\"],[0.1111111111111111,\"#46039f\"],[0.2222222222222222,\"#7201a8\"],[0.3333333333333333,\"#9c179e\"],[0.4444444444444444,\"#bd3786\"],[0.5555555555555556,\"#d8576b\"],[0.6666666666666666,\"#ed7953\"],[0.7777777777777778,\"#fb9f3a\"],[0.8888888888888888,\"#fdca26\"],[1.0,\"#f0f921\"]],\"sequentialminus\":[[0.0,\"#0d0887\"],[0.1111111111111111,\"#46039f\"],[0.2222222222222222,\"#7201a8\"],[0.3333333333333333,\"#9c179e\"],[0.4444444444444444,\"#bd3786\"],[0.5555555555555556,\"#d8576b\"],[0.6666666666666666,\"#ed7953\"],[0.7777777777777778,\"#fb9f3a\"],[0.8888888888888888,\"#fdca26\"],[1.0,\"#f0f921\"]]},\"colorway\":[\"#636efa\",\"#EF553B\",\"#00cc96\",\"#ab63fa\",\"#FFA15A\",\"#19d3f3\",\"#FF6692\",\"#B6E880\",\"#FF97FF\",\"#FECB52\"],\"font\":{\"color\":\"#2a3f5f\"},\"geo\":{\"bgcolor\":\"white\",\"lakecolor\":\"white\",\"landcolor\":\"#E5ECF6\",\"showlakes\":true,\"showland\":true,\"subunitcolor\":\"white\"},\"hoverlabel\":{\"align\":\"left\"},\"hovermode\":\"closest\",\"mapbox\":{\"style\":\"light\"},\"paper_bgcolor\":\"white\",\"plot_bgcolor\":\"#E5ECF6\",\"polar\":{\"angularaxis\":{\"gridcolor\":\"white\",\"linecolor\":\"white\",\"ticks\":\"\"},\"bgcolor\":\"#E5ECF6\",\"radialaxis\":{\"gridcolor\":\"white\",\"linecolor\":\"white\",\"ticks\":\"\"}},\"scene\":{\"xaxis\":{\"backgroundcolor\":\"#E5ECF6\",\"gridcolor\":\"white\",\"gridwidth\":2,\"linecolor\":\"white\",\"showbackground\":true,\"ticks\":\"\",\"zerolinecolor\":\"white\"},\"yaxis\":{\"backgroundcolor\":\"#E5ECF6\",\"gridcolor\":\"white\",\"gridwidth\":2,\"linecolor\":\"white\",\"showbackground\":true,\"ticks\":\"\",\"zerolinecolor\":\"white\"},\"zaxis\":{\"backgroundcolor\":\"#E5ECF6\",\"gridcolor\":\"white\",\"gridwidth\":2,\"linecolor\":\"white\",\"showbackground\":true,\"ticks\":\"\",\"zerolinecolor\":\"white\"}},\"shapedefaults\":{\"line\":{\"color\":\"#2a3f5f\"}},\"ternary\":{\"aaxis\":{\"gridcolor\":\"white\",\"linecolor\":\"white\",\"ticks\":\"\"},\"baxis\":{\"gridcolor\":\"white\",\"linecolor\":\"white\",\"ticks\":\"\"},\"bgcolor\":\"#E5ECF6\",\"caxis\":{\"gridcolor\":\"white\",\"linecolor\":\"white\",\"ticks\":\"\"}},\"title\":{\"x\":0.05},\"xaxis\":{\"automargin\":true,\"gridcolor\":\"white\",\"linecolor\":\"white\",\"ticks\":\"\",\"title\":{\"standoff\":15},\"zerolinecolor\":\"white\",\"zerolinewidth\":2},\"yaxis\":{\"automargin\":true,\"gridcolor\":\"white\",\"linecolor\":\"white\",\"ticks\":\"\",\"title\":{\"standoff\":15},\"zerolinecolor\":\"white\",\"zerolinewidth\":2}}},\"xaxis\":{\"anchor\":\"y\",\"domain\":[0.0,1.0],\"title\":{\"text\":\"index\"}},\"yaxis\":{\"anchor\":\"x\",\"domain\":[0.0,1.0],\"title\":{\"text\":\"sentiment\"}},\"coloraxis\":{\"colorbar\":{\"title\":{\"text\":\"sentiment\"}},\"colorscale\":[[0.0,\"#0d0887\"],[0.1111111111111111,\"#46039f\"],[0.2222222222222222,\"#7201a8\"],[0.3333333333333333,\"#9c179e\"],[0.4444444444444444,\"#bd3786\"],[0.5555555555555556,\"#d8576b\"],[0.6666666666666666,\"#ed7953\"],[0.7777777777777778,\"#fb9f3a\"],[0.8888888888888888,\"#fdca26\"],[1.0,\"#f0f921\"]]},\"legend\":{\"tracegroupgap\":0},\"margin\":{\"t\":60}},                        {\"responsive\": true}                    ).then(function(){\n",
              "                            \n",
              "var gd = document.getElementById('6069afff-6efd-407f-a908-8d391186beb3');\n",
              "var x = new MutationObserver(function (mutations, observer) {{\n",
              "        var display = window.getComputedStyle(gd).display;\n",
              "        if (!display || display === 'none') {{\n",
              "            console.log([gd, 'removed!']);\n",
              "            Plotly.purge(gd);\n",
              "            observer.disconnect();\n",
              "        }}\n",
              "}});\n",
              "\n",
              "// Listen for the removal of the full notebook cells\n",
              "var notebookContainer = gd.closest('#notebook-container');\n",
              "if (notebookContainer) {{\n",
              "    x.observe(notebookContainer, {childList: true});\n",
              "}}\n",
              "\n",
              "// Listen for the clearing of the current output cell\n",
              "var outputEl = gd.closest('.output');\n",
              "if (outputEl) {{\n",
              "    x.observe(outputEl, {childList: true});\n",
              "}}\n",
              "\n",
              "                        })                };                            </script>        </div>\n",
              "</body>\n",
              "</html>"
            ]
          },
          "metadata": {}
        }
      ]
    },
    {
      "cell_type": "code",
      "source": [
        ""
      ],
      "metadata": {
        "id": "akHTckHTjp3T"
      },
      "execution_count": null,
      "outputs": []
    },
    {
      "cell_type": "code",
      "source": [
        ""
      ],
      "metadata": {
        "id": "r8HFOnGSjp6L"
      },
      "execution_count": null,
      "outputs": []
    },
    {
      "cell_type": "code",
      "source": [
        ""
      ],
      "metadata": {
        "id": "9IOcegIYjp93"
      },
      "execution_count": null,
      "outputs": []
    }
  ]
}